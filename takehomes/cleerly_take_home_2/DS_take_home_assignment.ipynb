{
 "cells": [
  {
   "cell_type": "markdown",
   "metadata": {},
   "source": [
    "# Packages"
   ]
  },
  {
   "cell_type": "markdown",
   "metadata": {},
   "source": [
    "Below are the packages required for this assignment, feel free to import more if needed."
   ]
  },
  {
   "cell_type": "code",
   "execution_count": 1,
   "metadata": {},
   "outputs": [],
   "source": [
    "import time\n",
    "import zarr\n",
    "import numpy as np\n",
    "from IPython.display import IFrame\n",
    "import matplotlib.pyplot as plt\n",
    "import itk\n",
    "import SimpleITK as sitk\n",
    "import unittest\n",
    "tc = unittest.TestCase()\n",
    "\n",
    "%matplotlib inline"
   ]
  },
  {
   "cell_type": "markdown",
   "metadata": {},
   "source": [
    "# 1 - Data inspection / preprocessing"
   ]
  },
  {
   "cell_type": "markdown",
   "metadata": {},
   "source": [
    "## 1.1 - Load the sample data\n",
    "You are given a sample CT volume and its annotation for several heart structures in the data folder:\n",
    "- `sample_CT_volume.zarr.zip` contains the CT volume and the xy spacing / z spacing of this scan\n",
    "- `sample_annotation.zarr.zip` contains the annotation mask and the label information\n",
    "- This CT volume is of shape (256, 512, 512) corresponding to axes (z, y, x)\n",
    "- The annotation is a multi-class mask where each voxel value indicates the annotated label\n",
    "\n",
    "Load the data by running the code below."
   ]
  },
  {
   "cell_type": "code",
   "execution_count": 2,
   "metadata": {},
   "outputs": [
    {
     "data": {
      "text/plain": [
       "svmem(total=16789286912, available=15329394688, percent=8.7, used=713875456, free=2189692928, active=3212570624, inactive=10299629568, buffers=312020992, cached=13573697536, shared=418959360, slab=1027948544)"
      ]
     },
     "execution_count": 2,
     "metadata": {},
     "output_type": "execute_result"
    }
   ],
   "source": [
    "# Check virtual memory, and increase docker size as necessary\n",
    "import psutil\n",
    "psutil.virtual_memory()"
   ]
  },
  {
   "cell_type": "code",
   "execution_count": 3,
   "metadata": {},
   "outputs": [],
   "source": [
    "# load the data\n",
    "with zarr.open('./data/sample_CT_volume.zarr.zip', mode='r') as z:\n",
    "    ct_volume = z['image'][:]\n",
    "    xy_spacing = z.attrs['xy_spacing']\n",
    "    z_spacing = z.attrs['z_spacing']\n",
    "    \n",
    "with zarr.open('./data/sample_annotation.zarr', mode='r') as z:\n",
    "    mask = z['mask'][:]\n",
    "    classes = z.attrs['classes']"
   ]
  },
  {
   "cell_type": "code",
   "execution_count": 4,
   "metadata": {
    "scrolled": true
   },
   "outputs": [
    {
     "name": "stdout",
     "output_type": "stream",
     "text": [
      "CT volume dimension: (256, 512, 512)\n",
      "CT xy spacing: 0.398438mm\n",
      "CT z spacing: 0.625mm\n",
      "Labels: {'0': 'background', '1': 'left ventricular volume', '2': 'left ventricular wall', '3': 'right ventricular volume', '4': 'right atrial volume', '5': 'left atrial volume'}\n"
     ]
    }
   ],
   "source": [
    "# explore the data\n",
    "print(f'CT volume dimension: {ct_volume.shape}')\n",
    "print(f'CT xy spacing: {xy_spacing}mm')\n",
    "print(f'CT z spacing: {z_spacing}mm')\n",
    "print('Labels:', classes)"
   ]
  },
  {
   "cell_type": "code",
   "execution_count": 5,
   "metadata": {},
   "outputs": [
    {
     "data": {
      "image/png": "[encoded data removed]",
      "text/plain": [
       "<Figure size 432x288 with 3 Axes>"
      ]
     },
     "metadata": {
      "needs_background": "light"
     },
     "output_type": "display_data"
    }
   ],
   "source": [
    "# Sample of image for context\n",
    "f, (ax1, ax2, ax3) = plt.subplots(1,3)\n",
    "\n",
    "ax1.set_title('X, Y, Frame')\n",
    "ax1.imshow(ct_volume[0, :, :])\n",
    "ax2.set_title('Z, X, Frame')\n",
    "ax2.imshow(ct_volume[:,1,:])\n",
    "ax3.set_title('Z, Y, Frame')\n",
    "ax3.imshow(ct_volume[:,:,1])\n",
    "\n",
    "f.suptitle('Sample Views of 3D Image', fontsize=20)\n",
    "\n",
    "plt.tight_layout()\n",
    "# Make space for title\n",
    "plt.subplots_adjust(top=1)\n",
    "plt.show()"
   ]
  },
  {
   "cell_type": "code",
   "execution_count": 6,
   "metadata": {},
   "outputs": [
    {
     "data": {
      "text/plain": [
       "(512, 512, 256)"
      ]
     },
     "execution_count": 6,
     "metadata": {},
     "output_type": "execute_result"
    }
   ],
   "source": [
    "# logo = sitk.ReadImage(ct_volume)\n",
    "# image = sitk.Image(256, 512, 512, sitk.sitkFloat64)\n",
    "img_3D = sitk.GetImageFromArray(ct_volume)\n",
    "# In LTK order is x,y,z. While in numpy, an array is indexed in the opposite order (z,y,x).\n",
    "img_3D.GetSize()"
   ]
  },
  {
   "cell_type": "code",
   "execution_count": 7,
   "metadata": {},
   "outputs": [
    {
     "name": "stdout",
     "output_type": "stream",
     "text": [
      "(0.398438, 0.398438, 0.625)\n",
      "3\n",
      "(0.0, 0.0, 0.0)\n",
      "(512, 512, 256)\n",
      "(0.0, 0.0, 0.0)\n",
      "-3024.0\n"
     ]
    }
   ],
   "source": [
    "# Quick View Of Original Image Stats\n",
    "img_3D.SetSpacing([0.398438,0.398438,0.625])\n",
    "original_spacing = img_3D.GetSpacing()\n",
    "print(original_spacing)\n",
    "print(img_3D.GetDimension())\n",
    "print(img_3D.GetOrigin())\n",
    "print(img_3D.GetSize())\n",
    "print(img_3D.GetOrigin())\n",
    "print(img_3D.GetPixel(0, 0, 0))"
   ]
  },
  {
   "cell_type": "markdown",
   "metadata": {},
   "source": [
    "<img src='./vis/image_and_annotation.png'>\n",
    "<caption><center>One sample slice and its annotation in the axial view</center></caption>"
   ]
  },
  {
   "cell_type": "markdown",
   "metadata": {},
   "source": [
    "## 1.2 - Image resizing\n",
    "Since the CT scan usually comes in anisotropic dimension with different spacings, it's sometimes required to resize them into isotropic volume for further steps. \n",
    "- The first task you are asked to do is to resize the given CT volume into an isotropic one with 1mm spacing\n",
    "- Resize the annotation mask as well into an isotropic volume with 1mm spacing\n",
    "- Please complete the functions in the cell below, you can call any function from any librarie and feel free to add helper functions as you see fit\n",
    "- Run and time the functions to resize the volumes"
   ]
  },
  {
   "cell_type": "code",
   "execution_count": 8,
   "metadata": {},
   "outputs": [],
   "source": [
    "# RESIZING FUNCTIONS\n",
    "def resize_ct_volume(ct_volume, xy_spacing, z_spacing, out_xy_spacing=1, out_z_spacing=1, interpolator = sitk.sitkLinear):\n",
    "    \"\"\"\n",
    "    Arguments:\n",
    "    ct_volume -- the 3D image of a CT scan\n",
    "    xy_spacing -- original xy spacing of the scan\n",
    "    z_spacing -- original z spacing of the scan\n",
    "    out_xy_spacing -- xy spacing of the target volume\n",
    "    out_z_spacing -- z spacing of the target volume\n",
    "    \n",
    "    Returns:\n",
    "    new_volume -- the target volume \n",
    "    \"\"\"\n",
    "    # read image\n",
    "    image = sitk.GetImageFromArray(ct_volume)\n",
    "    image.SetSpacing([xy_spacing,xy_spacing,z_spacing])\n",
    "    original_spacing = image.GetSpacing() # [512, 512, 256]\n",
    "    \n",
    "    # Image is already isotropic, just return a copy.\n",
    "    if all(spc == original_spacing[0] for spc in original_spacing):\n",
    "        return sitk.Image(image)\n",
    "    # Make image isotropic via resampling.\n",
    "    original_size = image.GetSize()\n",
    "    print(\"original_spacing\", original_spacing)\n",
    "    print(\"original_size\", original_size)  \n",
    "    \n",
    "    spacing = out_xy_spacing\n",
    "    if spacing is None:\n",
    "        spacing = min(original_spacing)\n",
    "    new_spacing = [spacing]*image.GetDimension()\n",
    "    print(\"new spacing\", new_spacing)\n",
    "    \n",
    "    new_size = [int(round(osz*ospc/spacing)) for osz,ospc in zip(original_size, original_spacing)]\n",
    "    print(\"new size\", new_size)\n",
    "    \n",
    "    return sitk.Resample(image, new_size, sitk.Transform(), interpolator,\n",
    "                         image.GetOrigin(), new_spacing, image.GetDirection(), 0,\n",
    "                         image.GetPixelID())"
   ]
  },
  {
   "cell_type": "code",
   "execution_count": 9,
   "metadata": {},
   "outputs": [
    {
     "name": "stdout",
     "output_type": "stream",
     "text": [
      "original_spacing (0.398438, 0.398438, 0.625)\n",
      "original_size (512, 512, 256)\n",
      "new spacing [1, 1, 1]\n",
      "new size [204, 204, 160]\n",
      "Confirm new spacing (1.0, 1.0, 1.0)\n",
      "Confirm new size (204, 204, 160)\n",
      "CPU times: user 4.84 s, sys: 8.59 s, total: 13.4 s\n",
      "Wall time: 11.3 s\n"
     ]
    }
   ],
   "source": [
    "%%time\n",
    "new_image = resize_ct_volume(ct_volume, xy_spacing=0.398438, z_spacing=0.625, out_xy_spacing=1, out_z_spacing=1)\n",
    "# Would typically use logging instead of print here\n",
    "print(\"Confirm new spacing\", new_image.GetSpacing())\n",
    "print(\"Confirm new size\", new_image.GetSize())\n",
    "tc.assertEqual((1,1,1), new_image.GetSpacing())"
   ]
  },
  {
   "cell_type": "code",
   "execution_count": 10,
   "metadata": {},
   "outputs": [
    {
     "data": {
      "image/png": "[encoded data removed]",
      "text/plain": [
       "<Figure size 432x288 with 3 Axes>"
      ]
     },
     "metadata": {
      "needs_background": "light"
     },
     "output_type": "display_data"
    },
    {
     "name": "stdout",
     "output_type": "stream",
     "text": [
      "CPU times: user 625 ms, sys: 156 ms, total: 780 ms\n",
      "Wall time: 500 ms\n"
     ]
    }
   ],
   "source": [
    "%%time\n",
    "# Test print sample image to make sure its intact\n",
    "numpy_new_image = sitk.GetArrayViewFromImage(new_image)\n",
    "# Sample of image for context\n",
    "f, (ax1, ax2, ax3) = plt.subplots(1,3)\n",
    "\n",
    "ax1.set_title('X, Y, Frame')\n",
    "ax1.imshow(numpy_new_image[0, :, :])\n",
    "ax2.set_title('Z, X, Frame')\n",
    "ax2.imshow(numpy_new_image[:,1,:])\n",
    "ax3.set_title('Z, Y, Frame')\n",
    "ax3.imshow(numpy_new_image[:,:,1])\n",
    "\n",
    "f.suptitle('Sample Views of New 3D Image', fontsize=20)\n",
    "\n",
    "plt.tight_layout()\n",
    "# Make space for title\n",
    "plt.subplots_adjust(top=1)\n",
    "plt.show()"
   ]
  },
  {
   "cell_type": "code",
   "execution_count": 11,
   "metadata": {},
   "outputs": [
    {
     "name": "stdout",
     "output_type": "stream",
     "text": [
      "(256, 512, 512)\n",
      "[0. 1. 2. 3. 4. 5.]\n"
     ]
    }
   ],
   "source": [
    "print(mask.shape)\n",
    "print(np.unique(mask))"
   ]
  },
  {
   "cell_type": "code",
   "execution_count": 12,
   "metadata": {},
   "outputs": [],
   "source": [
    "def resize_annotation(mask, xy_spacing, z_spacing, out_xy_spacing=1, out_z_spacing=1):\n",
    "    \"\"\"\n",
    "    Arguments:\n",
    "    mask -- the 3D multi-class annotation mask of a CT scan\n",
    "    xy_spacing -- original xy spacing of the mask\n",
    "    z_spacing -- original z spacing of the mask\n",
    "    out_xy_spacing -- xy spacing of the target mask\n",
    "    out_z_spacing -- z spacing of the target mask\n",
    "    \n",
    "    Returns:\n",
    "    new_mask -- the target mask\n",
    "    \"\"\"\n",
    "    \n",
    "    ### Main difference here is using interpolator=sitkNearestNieghbors instead of Linear Interpolator \n",
    "    return resize_ct_volume(mask, xy_spacing, z_spacing, out_xy_spacing=1, out_z_spacing=1, interpolator=sitk.sitkNearestNeighbor)"
   ]
  },
  {
   "cell_type": "code",
   "execution_count": 13,
   "metadata": {},
   "outputs": [
    {
     "name": "stdout",
     "output_type": "stream",
     "text": [
      "original_spacing (0.398438, 0.398438, 0.625)\n",
      "original_size (512, 512, 256)\n",
      "new spacing [1, 1, 1]\n",
      "new size [204, 204, 160]\n",
      "Checking consistent categories [0. 1. 2. 3. 4. 5.]\n",
      "CPU times: user 1.08 s, sys: 249 ms, total: 1.33 s\n",
      "Wall time: 1.14 s\n"
     ]
    }
   ],
   "source": [
    "%%time\n",
    "new_mask = resize_annotation(mask, xy_spacing=0.398438, z_spacing=0.625)\n",
    "new_mask_array = sitk.GetArrayViewFromImage(new_mask)\n",
    "print(\"Checking consistent categories\", np.unique(new_mask_array))\n",
    "tc.assertCountEqual([0.0, 1.0, 2.0, 3.0, 4.0, 5.0], np.unique(new_mask_array))"
   ]
  },
  {
   "cell_type": "code",
   "execution_count": 14,
   "metadata": {},
   "outputs": [
    {
     "name": "stdout",
     "output_type": "stream",
     "text": [
      "CPU times: user 39.8 ms, sys: 15.3 ms, total: 55.1 ms\n",
      "Wall time: 45.8 ms\n"
     ]
    },
    {
     "data": {
      "text/plain": [
       "<matplotlib.image.AxesImage at 0x7f725c9d3b50>"
      ]
     },
     "execution_count": 14,
     "metadata": {},
     "output_type": "execute_result"
    },
    {
     "data": {
      "image/png": "[encoded data removed]",
      "text/plain": [
       "<Figure size 432x288 with 1 Axes>"
      ]
     },
     "metadata": {
      "needs_background": "light"
     },
     "output_type": "display_data"
    }
   ],
   "source": [
    "%%time\n",
    "# Test Image Constructed Correclty\n",
    "plt.imshow(new_mask_array[100, :, :])"
   ]
  },
  {
   "cell_type": "markdown",
   "metadata": {},
   "source": [
    "<img src='./vis/original_vs_isotropic.png'>\n",
    "<caption><center>The original image and the resized result of one sample slice in the sagittal view</center></caption>"
   ]
  },
  {
   "cell_type": "markdown",
   "metadata": {},
   "source": [
    "## 1.3 - 3D visualization\n",
    "Now you have the resized ct volume and the annotation mask, could you come up with any way(s) to inspect the data in 3D?\n",
    "- Run the cell below to see an example generated with Plotly in which the contour points on each slice are plotted for each annotated structure\n",
    "- Note that since the origin lies at the bottom in this visualization, the mask has been reversed in z axis so that the heart doesn't look upside down\n",
    "- You can either visualize the ct volume or the annotation mask, or both. You can also replicate the example provided"
   ]
  },
  {
   "cell_type": "code",
   "execution_count": 15,
   "metadata": {},
   "outputs": [
    {
     "data": {
      "text/html": [
       "\n",
       "        <iframe\n",
       "            width=\"700\"\n",
       "            height=\"600\"\n",
       "            src=\"./vis/3D_vis.html\"\n",
       "            frameborder=\"0\"\n",
       "            allowfullscreen\n",
       "        ></iframe>\n",
       "        "
      ],
      "text/plain": [
       "<IPython.lib.display.IFrame at 0x7f7263eb7f10>"
      ]
     },
     "execution_count": 15,
     "metadata": {},
     "output_type": "execute_result"
    }
   ],
   "source": [
    "IFrame(src='./vis/3D_vis.html', width=700, height=600)"
   ]
  },
  {
   "cell_type": "code",
   "execution_count": 16,
   "metadata": {},
   "outputs": [
    {
     "name": "stdout",
     "output_type": "stream",
     "text": [
      "64000\n",
      "64000\n"
     ]
    }
   ],
   "source": [
    "# Plotly Example uses\n",
    "X, Y, Z = np.mgrid[-8:8:40j, -8:8:40j, -8:8:40j]\n",
    "values = np.sin(X*Y*Z) / (X*Y*Z)\n",
    "print(len(X.flatten()))\n",
    "print(len(values.flatten()))"
   ]
  },
  {
   "cell_type": "code",
   "execution_count": 17,
   "metadata": {},
   "outputs": [
    {
     "name": "stdout",
     "output_type": "stream",
     "text": [
      "6658560\n",
      "6658560\n"
     ]
    }
   ],
   "source": [
    "import numpy as np\n",
    "import scipy\n",
    "import skimage\n",
    "from skimage import draw\n",
    "\n",
    "coord = np.argwhere(numpy_new_image) # or use .nonzero()\n",
    "x = coord[:,0]\n",
    "y = coord[:,1]\n",
    "z = coord[:,2]\n",
    "mask_values = new_mask_array.flatten()\n",
    "print(len(x))\n",
    "print(len(mask_values))"
   ]
  },
  {
   "cell_type": "code",
   "execution_count": 18,
   "metadata": {},
   "outputs": [
    {
     "data": {
      "text/plain": [
       "svmem(total=16789286912, available=13342932992, percent=20.5, used=2687713280, free=1044897792, active=3239727104, inactive=11437309952, buffers=312156160, cached=12744519680, shared=418963456, slab=1007329280)"
      ]
     },
     "execution_count": 18,
     "metadata": {},
     "output_type": "execute_result"
    }
   ],
   "source": [
    "# Check virtual memory again\n",
    "import psutil\n",
    "psutil.virtual_memory()"
   ]
  },
  {
   "cell_type": "code",
   "execution_count": 19,
   "metadata": {},
   "outputs": [],
   "source": [
    "import plotly.graph_objects as go\n",
    "\n",
    "# Note: This is not rendering on my local. \n",
    "\n",
    "# fig = go.Figure(data=go.Volume(\n",
    "#     x=x,\n",
    "#     y=y,\n",
    "#     z=z,\n",
    "#     value=mask_values,\n",
    "#     isomin=0.1,\n",
    "#     isomax=0.8,\n",
    "#     opacity=0.1, # needs to be small to see through all surfaces\n",
    "#     surface_count=17, # needs to be a large number for good volume rendering\n",
    "#     ))\n",
    "# fig.show()"
   ]
  },
  {
   "cell_type": "code",
   "execution_count": 20,
   "metadata": {},
   "outputs": [],
   "source": [
    "# Note: \n",
    "# I was looking at the VTK project, I think this would be an optimal solution for this but it is more complex. \n",
    "# https://github.com/Kitware/VTK"
   ]
  },
  {
   "cell_type": "markdown",
   "metadata": {},
   "source": [
    "# 2 - Sum kernel\n",
    "Suppose we have a 2D image and would apply a simple kernel ***REPEATEDLY*** with ***DIFFERENT SIZES*** on it to take the sum of all pixels within the kernel. Write a function to efficiently calculate the sum. The image below shows an example image and kernels with different sizes in different colors.\n",
    "- The kernel will be defined by its upper left `(row1, col1)` and lower right corner `(row2, col2)`\n",
    "- Please complete the function in the cell below and add some test cases\n",
    "- Discuss the time and space complexity for the approach you take\n",
    "\n",
    "***Example:***\n",
    "```python\n",
    "image = np.array([[1, 2, 3], \n",
    "                  [4, 5, 6], \n",
    "                  [7, 8, 9]])\n",
    "\n",
    "query_image = Image(image)\n",
    "kernel_sum = query_image.calculate(0, 1, 1, 2) # kernel_sum = 2 + 3 + 5 + 6 = 16\n",
    "```"
   ]
  },
  {
   "cell_type": "markdown",
   "metadata": {},
   "source": [
    "<img src='./vis/sum_grid.jpeg'>"
   ]
  },
  {
   "cell_type": "code",
   "execution_count": 21,
   "metadata": {},
   "outputs": [],
   "source": [
    "# SUM KERNEL\n",
    "\n",
    "class Image:\n",
    "    \n",
    "    def __init__(self, image):\n",
    "        self.image = image\n",
    "\n",
    "    def calculate_kernel_sum(self, row1, col1, row2, col2):\n",
    "        \n",
    "        if any([row1 >= row2, col1 >= col2, \n",
    "                row2 > self.image.shape[0], \n",
    "                col2 > self.image.shape[1]]):\n",
    "            raise ValueError(\"Requires r1<r2 & c1<c2 & Indexes In Bounds\")\n",
    "        print(self.image[row1:row2+1, col1:col2+1])\n",
    "        return np.sum(self.image[row1:row2+1, col1:col2+1])"
   ]
  },
  {
   "cell_type": "code",
   "execution_count": 22,
   "metadata": {},
   "outputs": [
    {
     "name": "stdout",
     "output_type": "stream",
     "text": [
      "[[2 3]\n",
      " [5 6]]\n",
      "16\n"
     ]
    }
   ],
   "source": [
    "image_1 = np.array([[1, 2, 3], \n",
    "                  [4, 5, 6], \n",
    "                  [7, 8, 9]])\n",
    "\n",
    "query_image = Image(image_1)\n",
    "kernel_sum = query_image.calculate_kernel_sum(0, 1, 1, 2)\n",
    "print(kernel_sum)\n",
    "tc.assertEqual(kernel_sum, 16)"
   ]
  },
  {
   "cell_type": "code",
   "execution_count": 23,
   "metadata": {},
   "outputs": [
    {
     "name": "stdout",
     "output_type": "stream",
     "text": [
      "[[6 3]\n",
      " [2 0]]\n",
      "Green Square 11\n",
      "[[3 2 1]\n",
      " [0 1 5]]\n",
      "Blue Square 12\n",
      "[[2 0 1]\n",
      " [1 0 1]\n",
      " [0 3 0]]\n",
      "Red Square 8\n"
     ]
    }
   ],
   "source": [
    "image_2 = np.array([[3, 0, 1, 4, 2], \n",
    "                  [5, 6, 3, 2, 1], \n",
    "                  [1, 2, 0, 1, 5],\n",
    "                 [4, 1, 0, 1, 7],\n",
    "                 [1, 0, 3, 0, 5]])\n",
    "query_image = Image(image_2)\n",
    "\n",
    "# Test Green Square\n",
    "kernel_sum = query_image.calculate_kernel_sum(1, 1, 2, 2)\n",
    "print(\"Green Square\", kernel_sum)\n",
    "tc.assertEqual(kernel_sum, 11)\n",
    "\n",
    "# Test Blue Square\n",
    "kernel_sum = query_image.calculate_kernel_sum(1, 2, 2, 4)\n",
    "print(\"Blue Square\", kernel_sum)\n",
    "tc.assertEqual(kernel_sum, 12)\n",
    "\n",
    "\n",
    "# Test Red Square\n",
    "kernel_sum = query_image.calculate_kernel_sum(2, 1, 5, 3)\n",
    "print(\"Red Square\", kernel_sum)\n",
    "tc.assertEqual(kernel_sum, 8)"
   ]
  },
  {
   "cell_type": "markdown",
   "metadata": {},
   "source": [
    "### Time complexity discussion\n",
    "\n",
    "Almost all calculations in numpy are O(n) or linear for a given dimension. \n",
    "So considering we are initializing a 2D array, slicing the 2D array, and getting the sum of the 2D array using numpy functions only.\n",
    "The time complexity for each step would be O(i * j)."
   ]
  },
  {
   "cell_type": "code",
   "execution_count": null,
   "metadata": {},
   "outputs": [],
   "source": []
  }
 ],
 "metadata": {
  "kernelspec": {
   "display_name": "Python 3 (ipykernel)",
   "language": "python",
   "name": "python3"
  },
  "language_info": {
   "codemirror_mode": {
    "name": "ipython",
    "version": 3
   },
   "file_extension": ".py",
   "mimetype": "text/x-python",
   "name": "python",
   "nbconvert_exporter": "python",
   "pygments_lexer": "ipython3",
   "version": "3.9.6"
  }
 },
 "nbformat": 4,
 "nbformat_minor": 4
}
